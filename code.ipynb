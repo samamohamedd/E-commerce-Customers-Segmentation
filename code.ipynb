{
 "cells": [
  {
   "cell_type": "markdown",
   "metadata": {},
   "source": [
    "### 1. importing needed packages"
   ]
  },
  {
   "cell_type": "code",
   "execution_count": 1,
   "metadata": {},
   "outputs": [],
   "source": [
    "import numpy as np\n",
    "import pandas as pd\n",
    "import matplotlib.pyplot as plt\n",
    "import seaborn as sns\n",
    "from sklearn.preprocessing import StandardScaler\n",
    "from sklearn.cluster import KMeans\n",
    "from sklearn.metrics import silhouette_score"
   ]
  },
  {
   "cell_type": "markdown",
   "metadata": {},
   "source": [
    "### 2. Loading the data"
   ]
  },
  {
   "cell_type": "code",
   "execution_count": 2,
   "metadata": {},
   "outputs": [],
   "source": [
    "# loading all sheets\n",
    "url = \"E-commerce_data.xlsx\"\n",
    "customers = pd.read_excel(url, sheet_name=\"customers\")\n",
    "genders = pd.read_excel(url, sheet_name=\"genders\")\n",
    "cities = pd.read_excel(url, sheet_name=\"cities\")\n",
    "transactions = pd.read_excel(url, sheet_name=\"transactions\")\n",
    "branches = pd.read_excel(url, sheet_name=\"branches\")\n",
    "merchants = pd.read_excel(url, sheet_name=\"merchants\")\n",
    "\n",
    "# Merge gender and city data into the customers table\n",
    "customers = customers.merge(genders, on='gender_id', how='left')\n",
    "customers = customers.merge(cities, on='city_id', how='left')\n",
    "\n",
    "# Merge transaction data into customers\n",
    "transactions = transactions.merge(customers[['customer_id', 'gender_name', 'city_name']], on='customer_id', how='left')\n",
    "\n",
    "# Merge branch and merchant data into transactions\n",
    "transactions = transactions.merge(branches, on='branch_id', how='left')\n",
    "transactions = transactions.merge(merchants, on='merchant_id', how='left')"
   ]
  },
  {
   "cell_type": "code",
   "execution_count": 3,
   "metadata": {},
   "outputs": [
    {
     "data": {
      "text/html": [
       "<div>\n",
       "<style scoped>\n",
       "    .dataframe tbody tr th:only-of-type {\n",
       "        vertical-align: middle;\n",
       "    }\n",
       "\n",
       "    .dataframe tbody tr th {\n",
       "        vertical-align: top;\n",
       "    }\n",
       "\n",
       "    .dataframe thead th {\n",
       "        text-align: right;\n",
       "    }\n",
       "</style>\n",
       "<table border=\"1\" class=\"dataframe\">\n",
       "  <thead>\n",
       "    <tr style=\"text-align: right;\">\n",
       "      <th></th>\n",
       "      <th>customer_id</th>\n",
       "      <th>join_date</th>\n",
       "      <th>city_id</th>\n",
       "      <th>gender_id</th>\n",
       "      <th>gender_name</th>\n",
       "      <th>city_name</th>\n",
       "    </tr>\n",
       "  </thead>\n",
       "  <tbody>\n",
       "    <tr>\n",
       "      <th>0</th>\n",
       "      <td>1</td>\n",
       "      <td>2022-01-08</td>\n",
       "      <td>7</td>\n",
       "      <td>1</td>\n",
       "      <td>Male</td>\n",
       "      <td>Mansoura</td>\n",
       "    </tr>\n",
       "    <tr>\n",
       "      <th>1</th>\n",
       "      <td>2</td>\n",
       "      <td>2023-05-02</td>\n",
       "      <td>20</td>\n",
       "      <td>2</td>\n",
       "      <td>Female</td>\n",
       "      <td>Sohag</td>\n",
       "    </tr>\n",
       "    <tr>\n",
       "      <th>2</th>\n",
       "      <td>3</td>\n",
       "      <td>2023-05-14</td>\n",
       "      <td>15</td>\n",
       "      <td>1</td>\n",
       "      <td>Male</td>\n",
       "      <td>Aswan</td>\n",
       "    </tr>\n",
       "    <tr>\n",
       "      <th>3</th>\n",
       "      <td>4</td>\n",
       "      <td>2022-11-25</td>\n",
       "      <td>11</td>\n",
       "      <td>2</td>\n",
       "      <td>Female</td>\n",
       "      <td>Ismailia</td>\n",
       "    </tr>\n",
       "    <tr>\n",
       "      <th>4</th>\n",
       "      <td>5</td>\n",
       "      <td>2023-04-26</td>\n",
       "      <td>8</td>\n",
       "      <td>1</td>\n",
       "      <td>Male</td>\n",
       "      <td>El-Mahalla El-Kubra</td>\n",
       "    </tr>\n",
       "  </tbody>\n",
       "</table>\n",
       "</div>"
      ],
      "text/plain": [
       "   customer_id  join_date  city_id  gender_id gender_name            city_name\n",
       "0            1 2022-01-08        7          1        Male             Mansoura\n",
       "1            2 2023-05-02       20          2      Female                Sohag\n",
       "2            3 2023-05-14       15          1        Male                Aswan\n",
       "3            4 2022-11-25       11          2      Female             Ismailia\n",
       "4            5 2023-04-26        8          1        Male  El-Mahalla El-Kubra"
      ]
     },
     "execution_count": 3,
     "metadata": {},
     "output_type": "execute_result"
    }
   ],
   "source": [
    "customers.head()"
   ]
  },
  {
   "cell_type": "code",
   "execution_count": 4,
   "metadata": {},
   "outputs": [
    {
     "data": {
      "text/html": [
       "<div>\n",
       "<style scoped>\n",
       "    .dataframe tbody tr th:only-of-type {\n",
       "        vertical-align: middle;\n",
       "    }\n",
       "\n",
       "    .dataframe tbody tr th {\n",
       "        vertical-align: top;\n",
       "    }\n",
       "\n",
       "    .dataframe thead th {\n",
       "        text-align: right;\n",
       "    }\n",
       "</style>\n",
       "<table border=\"1\" class=\"dataframe\">\n",
       "  <thead>\n",
       "    <tr style=\"text-align: right;\">\n",
       "      <th></th>\n",
       "      <th>transaction_id</th>\n",
       "      <th>customer_id</th>\n",
       "      <th>transaction_date</th>\n",
       "      <th>transaction_status</th>\n",
       "      <th>coupon_name</th>\n",
       "      <th>burn_date</th>\n",
       "      <th>branch_id</th>\n",
       "      <th>gender_name</th>\n",
       "      <th>city_name</th>\n",
       "      <th>merchant_id</th>\n",
       "      <th>merchant_name</th>\n",
       "    </tr>\n",
       "  </thead>\n",
       "  <tbody>\n",
       "    <tr>\n",
       "      <th>0</th>\n",
       "      <td>1</td>\n",
       "      <td>733</td>\n",
       "      <td>2024-05-11</td>\n",
       "      <td>subscribed</td>\n",
       "      <td>uNY-568</td>\n",
       "      <td>NaT</td>\n",
       "      <td>7</td>\n",
       "      <td>Female</td>\n",
       "      <td>Aswan</td>\n",
       "      <td>7</td>\n",
       "      <td>Berry-Anderson</td>\n",
       "    </tr>\n",
       "    <tr>\n",
       "      <th>1</th>\n",
       "      <td>2</td>\n",
       "      <td>631</td>\n",
       "      <td>2023-05-15</td>\n",
       "      <td>burned</td>\n",
       "      <td>kBx-219</td>\n",
       "      <td>2023-06-04</td>\n",
       "      <td>5</td>\n",
       "      <td>Female</td>\n",
       "      <td>Damietta</td>\n",
       "      <td>9</td>\n",
       "      <td>Campbell, Shaffer and Martinez</td>\n",
       "    </tr>\n",
       "    <tr>\n",
       "      <th>2</th>\n",
       "      <td>3</td>\n",
       "      <td>309</td>\n",
       "      <td>2022-11-13</td>\n",
       "      <td>subscribed</td>\n",
       "      <td>PLG-122</td>\n",
       "      <td>NaT</td>\n",
       "      <td>7</td>\n",
       "      <td>Male</td>\n",
       "      <td>Alexandria</td>\n",
       "      <td>7</td>\n",
       "      <td>Berry-Anderson</td>\n",
       "    </tr>\n",
       "    <tr>\n",
       "      <th>3</th>\n",
       "      <td>4</td>\n",
       "      <td>695</td>\n",
       "      <td>2024-01-26</td>\n",
       "      <td>subscribed</td>\n",
       "      <td>Wzf-897</td>\n",
       "      <td>NaT</td>\n",
       "      <td>2</td>\n",
       "      <td>Female</td>\n",
       "      <td>Aswan</td>\n",
       "      <td>18</td>\n",
       "      <td>Lewis LLC</td>\n",
       "    </tr>\n",
       "    <tr>\n",
       "      <th>4</th>\n",
       "      <td>5</td>\n",
       "      <td>288</td>\n",
       "      <td>2022-10-12</td>\n",
       "      <td>burned</td>\n",
       "      <td>qGb-428</td>\n",
       "      <td>2022-11-20</td>\n",
       "      <td>6</td>\n",
       "      <td>Male</td>\n",
       "      <td>Damietta</td>\n",
       "      <td>15</td>\n",
       "      <td>Butler-Gomez</td>\n",
       "    </tr>\n",
       "  </tbody>\n",
       "</table>\n",
       "</div>"
      ],
      "text/plain": [
       "   transaction_id  customer_id transaction_date transaction_status  \\\n",
       "0               1          733       2024-05-11         subscribed   \n",
       "1               2          631       2023-05-15             burned   \n",
       "2               3          309       2022-11-13         subscribed   \n",
       "3               4          695       2024-01-26         subscribed   \n",
       "4               5          288       2022-10-12             burned   \n",
       "\n",
       "  coupon_name  burn_date  branch_id gender_name   city_name  merchant_id  \\\n",
       "0     uNY-568        NaT          7      Female       Aswan            7   \n",
       "1     kBx-219 2023-06-04          5      Female    Damietta            9   \n",
       "2     PLG-122        NaT          7        Male  Alexandria            7   \n",
       "3     Wzf-897        NaT          2      Female       Aswan           18   \n",
       "4     qGb-428 2022-11-20          6        Male    Damietta           15   \n",
       "\n",
       "                    merchant_name  \n",
       "0                  Berry-Anderson  \n",
       "1  Campbell, Shaffer and Martinez  \n",
       "2                  Berry-Anderson  \n",
       "3                       Lewis LLC  \n",
       "4                    Butler-Gomez  "
      ]
     },
     "execution_count": 4,
     "metadata": {},
     "output_type": "execute_result"
    }
   ],
   "source": [
    "transactions.head()"
   ]
  },
  {
   "cell_type": "markdown",
   "metadata": {},
   "source": [
    "### Feature Engineering"
   ]
  },
  {
   "cell_type": "code",
   "execution_count": 5,
   "metadata": {},
   "outputs": [],
   "source": [
    "# Creating new feature : Coupon usage frequency per customer\n",
    "transaction_features = transactions.groupby('customer_id').agg({\n",
    "    'transaction_id': 'count',\n",
    "    'transaction_status': lambda x: sum(x == 'burnt') / len(x)  # Burn rate\n",
    "}).reset_index()\n",
    "\n",
    "transaction_features.columns = ['customer_id', 'transaction_count', 'burn_rate']\n",
    "\n",
    "# Merge transaction features back to the customer table\n",
    "customer_data = customers.merge(transaction_features, on='customer_id', how='left')\n",
    "\n",
    "# Fill missing values\n",
    "customer_data['transaction_count'] = customer_data['transaction_count'].fillna(0)\n",
    "customer_data['burn_rate'] = customer_data['burn_rate'].fillna(0)\n"
   ]
  },
  {
   "cell_type": "code",
   "execution_count": 7,
   "metadata": {},
   "outputs": [
    {
     "name": "stderr",
     "output_type": "stream",
     "text": [
      "c:\\Users\\samam\\anaconda3\\Lib\\site-packages\\sklearn\\cluster\\_kmeans.py:1412: FutureWarning: The default value of `n_init` will change from 10 to 'auto' in 1.4. Set the value of `n_init` explicitly to suppress the warning\n",
      "  super()._check_params_vs_input(X, default_n_init=10)\n",
      "c:\\Users\\samam\\anaconda3\\Lib\\site-packages\\sklearn\\cluster\\_kmeans.py:1436: UserWarning: KMeans is known to have a memory leak on Windows with MKL, when there are less chunks than available threads. You can avoid it by setting the environment variable OMP_NUM_THREADS=4.\n",
      "  warnings.warn(\n"
     ]
    },
    {
     "data": {
      "text/plain": [
       "Cluster\n",
       "4    766\n",
       "1     67\n",
       "3     57\n",
       "0     55\n",
       "2     55\n",
       "Name: count, dtype: int64"
      ]
     },
     "execution_count": 7,
     "metadata": {},
     "output_type": "execute_result"
    }
   ],
   "source": [
    "# Select relevant features for clustering\n",
    "X = customer_data[['transaction_count', 'burn_rate', 'gender_name', 'city_name']]\n",
    "\n",
    "# Convert categorical variables to numeric\n",
    "X = pd.get_dummies(X, columns=['gender_name', 'city_name'], drop_first=True)\n",
    "\n",
    "# Normalize the data\n",
    "scaler = StandardScaler()\n",
    "X_scaled = scaler.fit_transform(X)\n",
    "\n",
    "# Perform K-Means clustering\n",
    "kmeans = KMeans(n_clusters=5, random_state=42)\n",
    "customer_data['Cluster'] = kmeans.fit_predict(X_scaled)\n",
    "\n",
    "customer_data['Cluster'].value_counts()"
   ]
  },
  {
   "cell_type": "code",
   "execution_count": 8,
   "metadata": {},
   "outputs": [
    {
     "name": "stdout",
     "output_type": "stream",
     "text": [
      "Silhouette Score: 0.1629990743164807\n"
     ]
    },
    {
     "data": {
      "text/plain": [
       "'Inertia: 16759.220080412797'"
      ]
     },
     "execution_count": 8,
     "metadata": {},
     "output_type": "execute_result"
    }
   ],
   "source": [
    "# Checking Silhouette score\n",
    "silhouette_avg = silhouette_score(X_scaled, customer_data['Cluster'])\n",
    "print(f'Silhouette Score: {silhouette_avg}')\n",
    "\n",
    "# Inertia (sum of squared distances to the nearest cluster center)\n",
    "f'Inertia: {kmeans.inertia_}'\n"
   ]
  },
  {
   "cell_type": "code",
   "execution_count": 10,
   "metadata": {},
   "outputs": [
    {
     "data": {
      "text/html": [
       "<div>\n",
       "<style scoped>\n",
       "    .dataframe tbody tr th:only-of-type {\n",
       "        vertical-align: middle;\n",
       "    }\n",
       "\n",
       "    .dataframe tbody tr th {\n",
       "        vertical-align: top;\n",
       "    }\n",
       "\n",
       "    .dataframe thead th {\n",
       "        text-align: right;\n",
       "    }\n",
       "</style>\n",
       "<table border=\"1\" class=\"dataframe\">\n",
       "  <thead>\n",
       "    <tr style=\"text-align: right;\">\n",
       "      <th></th>\n",
       "      <th>Cluster</th>\n",
       "      <th>transaction_count</th>\n",
       "      <th>burn_rate</th>\n",
       "      <th>customer_id</th>\n",
       "    </tr>\n",
       "  </thead>\n",
       "  <tbody>\n",
       "    <tr>\n",
       "      <th>0</th>\n",
       "      <td>0</td>\n",
       "      <td>4.781818</td>\n",
       "      <td>0.0</td>\n",
       "      <td>55</td>\n",
       "    </tr>\n",
       "    <tr>\n",
       "      <th>1</th>\n",
       "      <td>1</td>\n",
       "      <td>5.029851</td>\n",
       "      <td>0.0</td>\n",
       "      <td>67</td>\n",
       "    </tr>\n",
       "    <tr>\n",
       "      <th>2</th>\n",
       "      <td>2</td>\n",
       "      <td>4.781818</td>\n",
       "      <td>0.0</td>\n",
       "      <td>55</td>\n",
       "    </tr>\n",
       "    <tr>\n",
       "      <th>3</th>\n",
       "      <td>3</td>\n",
       "      <td>4.614035</td>\n",
       "      <td>0.0</td>\n",
       "      <td>57</td>\n",
       "    </tr>\n",
       "    <tr>\n",
       "      <th>4</th>\n",
       "      <td>4</td>\n",
       "      <td>5.057441</td>\n",
       "      <td>0.0</td>\n",
       "      <td>766</td>\n",
       "    </tr>\n",
       "  </tbody>\n",
       "</table>\n",
       "</div>"
      ],
      "text/plain": [
       "   Cluster  transaction_count  burn_rate  customer_id\n",
       "0        0           4.781818        0.0           55\n",
       "1        1           5.029851        0.0           67\n",
       "2        2           4.781818        0.0           55\n",
       "3        3           4.614035        0.0           57\n",
       "4        4           5.057441        0.0          766"
      ]
     },
     "execution_count": 10,
     "metadata": {},
     "output_type": "execute_result"
    }
   ],
   "source": [
    "# Group by cluster and summarize customer behavior\n",
    "cluster_summary = customer_data.groupby('Cluster').agg({\n",
    "    'transaction_count': 'mean',\n",
    "    'burn_rate': 'mean',\n",
    "    'customer_id': 'count'  # Number of customers in each cluster\n",
    "}).reset_index()\n",
    "\n",
    "cluster_summary"
   ]
  },
  {
   "cell_type": "code",
   "execution_count": 11,
   "metadata": {},
   "outputs": [
    {
     "data": {
      "image/png": "[encoded data removed]",
      "text/plain": [
       "<Figure size 640x480 with 1 Axes>"
      ]
     },
     "metadata": {},
     "output_type": "display_data"
    }
   ],
   "source": [
    "# Visualize the segments\n",
    "sns.barplot(x='Cluster', y='transaction_count', data=cluster_summary)\n",
    "plt.title('Average Transaction Count by Cluster')\n",
    "plt.show()"
   ]
  },
  {
   "cell_type": "code",
   "execution_count": null,
   "metadata": {},
   "outputs": [],
   "source": []
  }
 ],
 "metadata": {
  "kernelspec": {
   "display_name": "base",
   "language": "python",
   "name": "python3"
  },
  "language_info": {
   "codemirror_mode": {
    "name": "ipython",
    "version": 3
   },
   "file_extension": ".py",
   "mimetype": "text/x-python",
   "name": "python",
   "nbconvert_exporter": "python",
   "pygments_lexer": "ipython3",
   "version": "3.11.5"
  }
 },
 "nbformat": 4,
 "nbformat_minor": 2
}
